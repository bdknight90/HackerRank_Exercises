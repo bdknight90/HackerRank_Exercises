{
 "cells": [
  {
   "cell_type": "code",
   "execution_count": null,
   "metadata": {},
   "outputs": [],
   "source": [
    "#Given a 6x6 array (arr), and given that the shape of a capital 'I' appears 16 times in the array\n",
    "#find the total sum of all 16, and return the highest total.\n",
    "\n",
    "def hourglassSum(arr):\n",
    "\n",
    "    eyelist= []\n",
    "\n",
    "    for row in range(0,4):\n",
    "        for col in range(0,4):\n",
    "            top = arr[row][col:col+3]\n",
    "            middle = [arr[row+1][col+1]]\n",
    "            bottom = arr[row+2][col:col+3]\n",
    "            eye = top+middle+bottom\n",
    "            eyelist.append(sum(eye))\n",
    "    print(max(eyelist))\n",
    "hourglassSum(arr)"
   ]
  }
 ],
 "metadata": {
  "kernelspec": {
   "display_name": "Python 3",
   "language": "python",
   "name": "python3"
  },
  "language_info": {
   "codemirror_mode": {
    "name": "ipython",
    "version": 3
   },
   "file_extension": ".py",
   "mimetype": "text/x-python",
   "name": "python",
   "nbconvert_exporter": "python",
   "pygments_lexer": "ipython3",
   "version": "3.7.0"
  }
 },
 "nbformat": 4,
 "nbformat_minor": 2
}
