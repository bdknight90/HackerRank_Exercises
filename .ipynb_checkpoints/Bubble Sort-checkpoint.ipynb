{
 "cells": [
  {
   "cell_type": "code",
   "execution_count": null,
   "metadata": {},
   "outputs": [],
   "source": [
    "def countSwaps(a):\n",
    "    n = len(a)\n",
    "    scount= 0\n",
    "    bookmark= 0\n",
    "\n",
    "    for i in range(0,n):\n",
    "        for j in range(0,n-1):\n",
    "            # Swap adjacent elements if they are in decreasing order\n",
    "            if (a[j] > a[j+1]):\n",
    "                #swap(a[j], a[j+1])\n",
    "                bookmark= a[j]\n",
    "                a[j]=a[j+1]\n",
    "                a[j+1]= bookmark\n",
    "                scount+=1\n",
    "    print('Array is sorted in {} swaps! \\nFirst Element: {} \\nLast Element: {}'.format(scount,a[0],a[-1]))\n",
    "    \n",
    "countSwaps([4, 2, 3, 1])"
   ]
  }
 ],
 "metadata": {
  "kernelspec": {
   "display_name": "Python 3",
   "language": "python",
   "name": "python3"
  },
  "language_info": {
   "codemirror_mode": {
    "name": "ipython",
    "version": 3
   },
   "file_extension": ".py",
   "mimetype": "text/x-python",
   "name": "python",
   "nbconvert_exporter": "python",
   "pygments_lexer": "ipython3",
   "version": "3.7.0"
  }
 },
 "nbformat": 4,
 "nbformat_minor": 2
}
