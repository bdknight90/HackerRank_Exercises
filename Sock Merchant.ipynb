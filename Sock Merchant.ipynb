{
 "cells": [
  {
   "cell_type": "code",
   "execution_count": null,
   "metadata": {},
   "outputs": [],
   "source": [
    "# John works at a clothing store. He has a large pile of socks that he must pair by color for sale. \n",
    "# Given an array of integers representing the color of each sock, \n",
    "# determine how many pairs of socks with matching colors there are.\n",
    "\n",
    "#Return an integer representing the number of matching pairs of socks that are available.\n",
    "\n",
    "# sockMerchant has the following parameter(s):\n",
    "# n: the number of socks in the pile\n",
    "# ar: the colors of each sock\n",
    "\n",
    "def sockMerchant(n,ar):\n",
    "    setar = set(ar)\n",
    "    count = 0\n",
    "    for num in setar:\n",
    "        checklist = [x for x in ar if num == x]\n",
    "        count += len(checklist)//2\n",
    "    return(count)\n",
    "\n",
    "sockMerchant()"
   ]
  }
 ],
 "metadata": {
  "kernelspec": {
   "display_name": "Python 3",
   "language": "python",
   "name": "python3"
  },
  "language_info": {
   "codemirror_mode": {
    "name": "ipython",
    "version": 3
   },
   "file_extension": ".py",
   "mimetype": "text/x-python",
   "name": "python",
   "nbconvert_exporter": "python",
   "pygments_lexer": "ipython3",
   "version": "3.7.0"
  }
 },
 "nbformat": 4,
 "nbformat_minor": 2
}
