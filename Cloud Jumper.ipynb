{
 "cells": [
  {
   "cell_type": "code",
   "execution_count": null,
   "metadata": {},
   "outputs": [],
   "source": [
    "# Emma is playing a new mobile game that starts with consecutively numbered clouds. \n",
    "# Some of the clouds are thunderheads (1) and others are cumulus (0). \n",
    "# She can jump on any cumulus cloud having a number that is equal to the number of the current cloud plus 1 or 2. \n",
    "# She must avoid the thunderheads. \n",
    "# Determine the minimum number of jumps it will take Emma to jump from her starting postion to the last cloud. \n",
    "# It is always possible to win the game.\n",
    "\n",
    "def jumpingOnClouds(c):\n",
    "    count = 0\n",
    "    place = 0\n",
    "\n",
    "    while place <= len(c)-2:\n",
    "        if place == len(c)-2:\n",
    "            count += 1\n",
    "            return count\n",
    "        elif c[place+2] == 0:\n",
    "            place += 2\n",
    "        else:\n",
    "            place += 1\n",
    "        count += 1\n",
    "    return count\n",
    "\n",
    "jumpingOnClouds([0,1,0,0,1,0])"
   ]
  }
 ],
 "metadata": {
  "kernelspec": {
   "display_name": "Python 3",
   "language": "python",
   "name": "python3"
  },
  "language_info": {
   "codemirror_mode": {
    "name": "ipython",
    "version": 3
   },
   "file_extension": ".py",
   "mimetype": "text/x-python",
   "name": "python",
   "nbconvert_exporter": "python",
   "pygments_lexer": "ipython3",
   "version": "3.7.0"
  }
 },
 "nbformat": 4,
 "nbformat_minor": 2
}
