{
 "cells": [
  {
   "cell_type": "code",
   "execution_count": null,
   "metadata": {},
   "outputs": [],
   "source": [
    "# Complete the function maximumToys in the editor below. \n",
    "# It should return an integer representing the maximum number of toys Mark can purchase.\n",
    "\n",
    "# maximumToys has the following parameter(s):\n",
    "\n",
    "# prices: an array of integers representing toy prices\n",
    "# k: an integer, Mark's budget\n",
    "\n",
    "def maximumToys(prices, k):\n",
    "    newlist= []\n",
    "    \n",
    "    for x in prices:\n",
    "        if x <= k:\n",
    "            newlist.append(x)\n",
    "            if sum(newlist) > k:\n",
    "                newlist.remove(max(newlist))\n",
    "                \n",
    "    return len(newlist)"
   ]
  }
 ],
 "metadata": {
  "kernelspec": {
   "display_name": "Python 3",
   "language": "python",
   "name": "python3"
  },
  "language_info": {
   "codemirror_mode": {
    "name": "ipython",
    "version": 3
   },
   "file_extension": ".py",
   "mimetype": "text/x-python",
   "name": "python",
   "nbconvert_exporter": "python",
   "pygments_lexer": "ipython3",
   "version": "3.7.0"
  }
 },
 "nbformat": 4,
 "nbformat_minor": 2
}
