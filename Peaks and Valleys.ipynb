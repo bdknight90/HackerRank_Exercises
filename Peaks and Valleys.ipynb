{
 "cells": [
  {
   "cell_type": "code",
   "execution_count": null,
   "metadata": {},
   "outputs": [],
   "source": [
    "# Given Gary's sequence of up and down steps during his last hike, find and print the number of valleys he walked through.\n",
    "\n",
    "# For example, if Gary's path is s=[D,D,U,U,U,U,D,D], he first enters a valley 2 units deep. \n",
    "# Then he climbs out an up onto a mountain 4 units high. Finally, he returns to sea level and ends his hike.\n",
    "\n",
    "def countingValleys(n, s):\n",
    "    elevation = 0\n",
    "    count = 0\n",
    "    for x in s:\n",
    "        if x == 'D':\n",
    "            elevation -= 1\n",
    "        elif x == 'U':\n",
    "            elevation += 1\n",
    "            if elevation == 0:\n",
    "                count +=1\n",
    "    return(count)\n",
    "\n",
    "countingValleys()"
   ]
  }
 ],
 "metadata": {
  "kernelspec": {
   "display_name": "Python 3",
   "language": "python",
   "name": "python3"
  },
  "language_info": {
   "codemirror_mode": {
    "name": "ipython",
    "version": 3
   },
   "file_extension": ".py",
   "mimetype": "text/x-python",
   "name": "python",
   "nbconvert_exporter": "python",
   "pygments_lexer": "ipython3",
   "version": "3.7.0"
  }
 },
 "nbformat": 4,
 "nbformat_minor": 2
}
